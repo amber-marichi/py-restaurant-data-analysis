{
 "cells": [
  {
   "cell_type": "code",
   "execution_count": 64,
   "metadata": {
    "collapsed": true,
    "pycharm": {
     "name": "#%%\n"
    }
   },
   "outputs": [],
   "source": [
    "import pandas as pd\n",
    "import numpy as np"
   ]
  },
  {
   "attachments": {},
   "cell_type": "markdown",
   "metadata": {
    "collapsed": false,
    "pycharm": {
     "name": "#%% md\n"
    }
   },
   "source": [
    "# Task 0\n",
    "Data extraction: get the data from 3 tables & combine it into single `.csv` file.\n",
    "After that read this file using pandas to create Dataframe.\n",
    "So it will be all joined data in 1 dataframe. Quick check - should be 74818 rows in it."
   ]
  },
  {
   "cell_type": "code",
   "execution_count": null,
   "metadata": {
    "collapsed": false,
    "pycharm": {
     "name": "#%%\n"
    }
   },
   "outputs": [],
   "source": [
    "import csv\n",
    "import os\n",
    "from sqlite3 import connect, Error\n",
    "\n",
    "\n",
    "get_query = \"\"\"\n",
    "    SELECT restaurant_orderitem.quantity, restaurant_order.datetime, restaurant_product.name, restaurant_product.price FROM restaurant_orderitem\n",
    "    INNER JOIN restaurant_order ON restaurant_order.id = restaurant_orderitem.order_id\n",
    "    INNER JOIN restaurant_product ON restaurant_product.id == restaurant_orderitem.product_id;\n",
    "\"\"\"\n",
    "db_filename = \"db.sqlite3\"\n",
    "csv_filename = \"orders_data.csv\"\n",
    "\n",
    "try:\n",
    "    conn = connect(os.path.join(os.pardir, db_filename))\n",
    "    with conn:\n",
    "        cursor = conn.cursor()\n",
    "        cursor.execute(get_query)\n",
    "        headers = [col[0] for col in cursor.description]\n",
    "        data = cursor.fetchall()\n",
    "except Error as error:\n",
    "    print(error)\n",
    "\n",
    "csv_path = os.path.join(os.pardir, csv_filename)\n",
    "with open(csv_path, \"w\") as file:\n",
    "    csvwriter = csv.writer(file)\n",
    "    csvwriter.writerow(headers)\n",
    "    csvwriter.writerows(data)\n",
    "\n",
    "\n",
    "df = pd.read_csv(csv_path)\n",
    "df.info()\n"
   ]
  },
  {
   "attachments": {},
   "cell_type": "markdown",
   "metadata": {
    "collapsed": false,
    "pycharm": {
     "name": "#%% md\n"
    }
   },
   "source": [
    "# Task 1\n",
    "Get Top 10 most popular products in restaurant sold by Quantity.\n",
    "Count how many times each product was sold and create a pie chart with percentage of popularity (by quantity) for top 10 of them.\n",
    "\n",
    "Example:\n",
    "\n",
    "![pie chart](../demo/pie.png)"
   ]
  },
  {
   "cell_type": "code",
   "execution_count": null,
   "metadata": {
    "collapsed": false,
    "pycharm": {
     "name": "#%%\n"
    }
   },
   "outputs": [],
   "source": [
    "top_popular = df.groupby(\"name\").quantity.sum().sort_values(ascending=False).head(10)\n",
    "top_popular\n",
    "\n",
    "top_popular.plot.pie(labels=top_popular.index, autopct=\"%1.1f%%\", title=\"Top 10 sold by quantity\", figsize=(8, 8))\n"
   ]
  },
  {
   "attachments": {},
   "cell_type": "markdown",
   "metadata": {
    "collapsed": false,
    "pycharm": {
     "name": "#%% md\n"
    }
   },
   "source": [
    "# Task 2\n",
    "Calculate `Item Price` (Product Price * Quantity) for each Order Item in dataframe.\n",
    "And Make the same Top 10 pie chart, but this time by `Item Price`. So this chart should describe not the most popular products by quantity, but which products (top 10) make the most money for restaurant. It should be also with percentage."
   ]
  },
  {
   "cell_type": "code",
   "execution_count": null,
   "metadata": {
    "collapsed": false,
    "pycharm": {
     "is_executing": true,
     "name": "#%%\n"
    }
   },
   "outputs": [],
   "source": [
    "top_by_money = df.assign(total_price=df.quantity*df.price).groupby(\"name\", as_index=False).total_price.sum().sort_values(\"total_price\", ascending=False).head(10)\n",
    "top_by_money.plot.pie(y=\"total_price\", labels=top_by_money.name, autopct=\"%1.1f%%\", title=\"Top 10 sold by value\", figsize=(8, 8))\n"
   ]
  },
  {
   "attachments": {},
   "cell_type": "markdown",
   "metadata": {
    "collapsed": false,
    "pycharm": {
     "name": "#%% md\n"
    }
   },
   "source": [
    "# Task 3\n",
    "Calculate `Order Hour` based on `Order Datetime`, which will tell about the specific our the order was created (from 0 to 23). Using `Order Hour` create a bar chart, which will tell the total restaurant income based on the hour order was created. So on x-axis - it will be values from 0 to 23 (hours), on y-axis - it will be the total sum of order prices, which were sold on that hour.\n",
    "\n",
    "Example:\n",
    "\n",
    "![bar chart](../demo/bar.png)"
   ]
  },
  {
   "cell_type": "code",
   "execution_count": null,
   "metadata": {
    "collapsed": false,
    "pycharm": {
     "name": "#%%\n"
    }
   },
   "outputs": [],
   "source": [
    "df[\"datetime\"] = df[\"datetime\"].astype(\"datetime64[ns]\")\n",
    "top_hour = df.assign(order_hour=df.quantity*df.price, hour=df.datetime.dt.hour).groupby(\"hour\").order_hour.sum()\n",
    "top_hour.plot.bar(y=\"order_hour\", figsize=(13, 10), title=\"Profit by order hour\")\n"
   ]
  },
  {
   "attachments": {},
   "cell_type": "markdown",
   "metadata": {
    "collapsed": false,
    "pycharm": {
     "name": "#%% md\n"
    }
   },
   "source": [
    "# Task 4\n",
    "Make similar bar chart, but right now with `Order Day Of The Week` (from Monday to Sunday), and also analyze total restaurant income by each day of the week."
   ]
  },
  {
   "cell_type": "code",
   "execution_count": null,
   "metadata": {
    "collapsed": false,
    "pycharm": {
     "name": "#%%\n"
    }
   },
   "outputs": [],
   "source": [
    "top_weekday = df.assign(order_weekday=df.quantity*df.price, day_of_week=df.datetime.dt.day_name()).groupby(\"day_of_week\").order_weekday.sum()\n",
    "top_weekday.plot.bar(y=\"order_weekday\", figsize=(13, 10), title=\"Profit by order weekday\")\n"
   ]
  }
 ],
 "metadata": {
  "kernelspec": {
   "display_name": "Python 3",
   "language": "python",
   "name": "python3"
  },
  "language_info": {
   "codemirror_mode": {
    "name": "ipython",
    "version": 2
   },
   "file_extension": ".py",
   "mimetype": "text/x-python",
   "name": "python",
   "nbconvert_exporter": "python",
   "pygments_lexer": "ipython2",
   "version": "3.11.3"
  }
 },
 "nbformat": 4,
 "nbformat_minor": 0
}
